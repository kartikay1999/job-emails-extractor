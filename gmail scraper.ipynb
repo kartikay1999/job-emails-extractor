{
 "cells": [
  {
   "cell_type": "code",
   "execution_count": 4,
   "metadata": {},
   "outputs": [],
   "source": [
    "import email, getpass, imaplib, os, re\n",
    "import justext\n",
    "from tqdm import tqdm"
   ]
  },
  {
   "cell_type": "code",
   "execution_count": 5,
   "metadata": {},
   "outputs": [
    {
     "name": "stdout",
     "output_type": "stream",
     "text": [
      "Enter your GMail username --> rahejakartikay99@gmail.com\n",
      "········\n"
     ]
    }
   ],
   "source": [
    "user = input(\"Enter your GMail username --> \")\n",
    "pwd=getpass.getpass()"
   ]
  },
  {
   "cell_type": "code",
   "execution_count": 6,
   "metadata": {},
   "outputs": [],
   "source": [
    "#BEFORE USING, IMAP ENABLE IMAP AND POP ACCESS OF GMAIL ACCOUNT IN GMAIL SETTINGS"
   ]
  },
  {
   "cell_type": "code",
   "execution_count": 7,
   "metadata": {},
   "outputs": [
    {
     "name": "stdout",
     "output_type": "stream",
     "text": [
      "IDs of mails containing parts of substring Thank you for applying\n"
     ]
    },
    {
     "data": {
      "text/plain": [
       "[b'5197 6091 6355 8166 10942 11582 12777 12972 13346 16678 16689 17605 18813 19025 19414 19424 20290 20375 20476 20628 20674 20977 21018 21241 21357 21914 23152 23700 24373 24374 24448 24526 24531 24601 24604 24851 24876 25636 25777 25780 25887 26040 26042 26046 26127']"
      ]
     },
     "execution_count": 7,
     "metadata": {},
     "output_type": "execute_result"
    }
   ],
   "source": [
    "m = imaplib.IMAP4_SSL(\"imap.gmail.com\")\n",
    "m.login(user,pwd)\n",
    "m.select('inbox')\n",
    "\n",
    "typ,data=m.search(None,'TEXT \"Thank you for applying\"')\n",
    "print('IDs of mails containing parts of substring Thank you for applying')\n",
    "data\n"
   ]
  },
  {
   "cell_type": "code",
   "execution_count": 8,
   "metadata": {},
   "outputs": [],
   "source": [
    "ids = data[0] # data is a list.\n",
    "id_list = ids.split() # ids is a space separated string"
   ]
  },
  {
   "cell_type": "code",
   "execution_count": 9,
   "metadata": {},
   "outputs": [],
   "source": [
    "#Fetching email boies of selected emails\n",
    "mails=[]\n",
    "for i in id_list:\n",
    "    result, mail = m.fetch(i, \"RFC822\") # fetch the email body (RFC822) for the given ID\n",
    "    mails.append(mail)"
   ]
  },
  {
   "cell_type": "code",
   "execution_count": 10,
   "metadata": {},
   "outputs": [
    {
     "data": {
      "text/plain": [
       "b'Delivered-To: rahejakartikay99@gmail.com\\r\\nReceived: by 10.223.164.74 with SMTP id e10csp1160042wra;\\r\\n        Tue, 20 Jun 2017 08:04:42 -0700 (PDT)\\r\\nX-Received: by 10.99.101.135 with SMTP id z129mr31773985pgb.66.1497971081881;\\r\\n        Tue, 20 Jun 2017 08:04:41 -0700 (PDT)\\r\\nARC-Seal: i=1; a=rsa-sha256; t=1497971081; cv=none;\\r\\n        d=google.com; s=arc-20160816;\\r\\n        b=PxExouW/fPqQ9mKsAw1bTVMEMTw3fSH9cJdvktzdc/FWMS5hrZr0Yh9OhWzWbiWS5i\\r\\n         VKdPDx8/TDDL1Sar9O5j0pnGLcXiJ0xiZEJogV42y3eKeNMpqdCmJLK59LDclUu4wBAS\\r\\n         fblhOecWTr2DMeqVEDvJCiQY2SjNDqlqO3N55lBkxweqqFTlaliE0bYcytq/+pswqpnS\\r\\n         PtCslt9+TbYGB+TrusSMV7fAZzKYD4NIJE3Wyu8c9PQ0jlcCkOsb9hBk5pJeHrozpFWt\\r\\n         3fK6Zqvc2sKVoXcOsOMSz7C+uRUaSl+XIbX8CoLQ0X7Q99HdadnTcv+sQUd3RxIkwVBi\\r\\n         t1iA==\\r\\nARC-Message-Signature: i=1; a=rsa-sha256; c=relaxed/relaxed; d=google.com; s=arc-20160816;\\r\\n        h=mime-version:subject:message-id:to:from:date:dkim-signature\\r\\n         :dkim-signature:arc-authentication-results;\\r\\n        bh=gkLo0kdNNMItgKqLKQkgxLyTTGQOiMFN2tZYt9MgFBg=;\\r\\n        b=EQyrUijrykEZJfbH+XZGLEAPdWefKBooyFkATVbNlJf43Gbs0B1ATyZs0l+mM0s83/\\r\\n         YAsuwe4FDCGQ8aYK/U4SK3rC957h3Pd15ziNf1uxTxQiW9oa3oTBpOQQoSkqfAjtoF73\\r\\n         RLBICI1AYBi8zQDoQPN2QNfVcmjQMWsH2C3cCPzp2Cj/ZiEf+2fzsWGROSocO6S1K1Tj\\r\\n         JR9SYLn7Qx5Gu00s+ynXJbOVFmh3JdBgfInTvyHtYvw4RqIA0fZwlKreAmQ7qLVaL3mw\\r\\n         nBYwZDYVnP288Snd/NEoVAv8we3TqFaPNO8ZaHRzgvoyQuTvTOW7oOeLDa0j+3uQUsMo\\r\\n         wq2Q==\\r\\nARC-Authentication-Results: i=1; mx.google.com;\\r\\n       dkim=pass header.i=@gupshuptech.com header.b=NpyrFou3;\\r\\n       dkim=pass header.i=@sendgrid.info header.b=LCvHrIfk;\\r\\n       spf=pass (google.com: domain of bounces+2138863-8f1d-rahejakartikay99=gmail.com@email.gupshuptech.com designates 167.89.60.178 as permitted sender) smtp.mailfrom=bounces+2138863-8f1d-rahejakartikay99=gmail.com@email.gupshuptech.com\\r\\nReturn-Path: <bounces+2138863-8f1d-rahejakartikay99=gmail.com@email.gupshuptech.com>\\r\\nReceived: from o36.email.gpshp.in (o36.email.gpshp.in. [167.89.60.178])\\r\\n        by mx.google.com with ESMTPS id p75si10646546pfk.288.2017.06.20.08.04.41\\r\\n        for <rahejakartikay99@gmail.com>\\r\\n        (version=TLS1_2 cipher=ECDHE-RSA-AES128-GCM-SHA256 bits=128/128);\\r\\n        Tue, 20 Jun 2017 08:04:41 -0700 (PDT)\\r\\nReceived-SPF: pass (google.com: domain of bounces+2138863-8f1d-rahejakartikay99=gmail.com@email.gupshuptech.com designates 167.89.60.178 as permitted sender) client-ip=167.89.60.178;\\r\\nAuthentication-Results: mx.google.com;\\r\\n       dkim=pass header.i=@gupshuptech.com header.b=NpyrFou3;\\r\\n       dkim=pass header.i=@sendgrid.info header.b=LCvHrIfk;\\r\\n       spf=pass (google.com: domain of bounces+2138863-8f1d-rahejakartikay99=gmail.com@email.gupshuptech.com designates 167.89.60.178 as permitted sender) smtp.mailfrom=bounces+2138863-8f1d-rahejakartikay99=gmail.com@email.gupshuptech.com\\r\\nDKIM-Signature: v=1; a=rsa-sha1; c=relaxed/relaxed; \\r\\n\\td=gupshuptech.com; h=from:to:subject:mime-version:content-type; \\r\\n\\ts=s1; bh=WeIlZxuM6h9mA15KNz/cXRHhFzQ=; b=NpyrFou3NJ8FHKJuVDe8yiq\\r\\n\\tSQiup52llR8nYabQl+yAYDCLCAM5kRsmR5Vdvjz+3PWBUoOeJeZrSqrnJIvc09RZ\\r\\n\\txQ/xxEuSZybVSR73MeJ7XpHPkkpa44RFFTC3siFzPGFAKdSIRHyEJOl5GxNPQcYD\\r\\n\\ttSbVyFrGmfhk1aA0Si5E=\\r\\nDKIM-Signature: v=1; a=rsa-sha1; c=relaxed/relaxed; d=sendgrid.info; \\r\\n\\th=from:to:subject:mime-version:content-type:x-feedback-id; \\r\\n\\ts=smtpapi; bh=WeIlZxuM6h9mA15KNz/cXRHhFzQ=; b=LCvHrIfk8HByM/Ckuc\\r\\n\\todzzCrVXP0ZZvjuUKoGXjt0R8RBrlzpX4wu4PaVXlljUtQe100x1j8gELuCpXg3h\\r\\n\\t8/Yp2w63Ft4FlRzR27bGc1902FI6CHgjztUG9bNzC2g2n8TR1TaSD8FwHouvKfwm\\r\\n\\tnQG1/mxtvFsSbl07iHVF5GtkM=\\r\\nReceived: by filter0526p1las1.sendgrid.net with SMTP id filter0526p1las1-29789-59493987-20\\r\\n        2017-06-20 15:04:39.978368534 +0000 UTC\\r\\nReceived: from ip-10-22-1-14 (ec2-35-154-98-87.ap-south-1.compute.amazonaws.com [35.154.98.87])\\r\\n\\tby ismtpd0018p1sin1.sendgrid.net (SG) with ESMTP id nGCK_hrOSHaveMWFevotrQ\\r\\n\\tfor <rahejakartikay99@gmail.com>; Tue, 20 Jun 2017 15:04:39.497 +0000 (UTC)\\r\\nDate: Tue, 20 Jun 2017 20:34:38 +0530 (IST)\\r\\nFrom: Chandigarh University <noreply@cumail.in>\\r\\nTo: rahejakartikay99@gmail.com\\r\\nMessage-ID: <467437923.7214679.1497971078954.JavaMail.tomcat@ip-10-22-1-14>\\r\\nSubject: Thank you for your interest in pursuing Academic Program at\\r\\n Chandigarh University\\r\\nMIME-Version: 1.0\\r\\nContent-Type: multipart/alternative; \\r\\n\\tboundary=\"----=_Part_2783683_1132600184.1497971077766\"\\r\\nX-SG-EID: xHh2X5QRMdBdtQCggySvU+ftCjnWiaeiwjyETc9tI+vvsyVe8riEwEt3RdWixjfTWnzBfyWS8vc31z\\r\\n jEgj7u/brmDXBuahUyBxdov4H1ZH5KSaQ0PkFfJzLiWFvPLtJn3Lo2rfb2iKFSn7tFND2ENMyXFQgC\\r\\n rbvDVzipIqCmhf802+Rnyq/6FAm0ZVfPfpk+T2nXGL83iDBm8NGzNQ9q/Km7oic9yH25xgfU7zLz4/\\r\\n M=\\r\\nX-SG-ID: SmDFk6fVVFXrSNgMN4Q94fEtsCWhg8cRhZkZZpCNUgYfhTrmMKQcGSXN7TLBH4FFkGxeGeShva6hXg\\r\\n T0Kyjo3KwuDbN8eYtPPfR/rgwKWNLSt/Zm/2cC/NqCcomJcUj5E4JlYHI6wSLudz+k3n1t3P0eFDOT\\r\\n mbh+xRcqGx6DHKM=\\r\\nX-Feedback-ID: 2138863:kyyme+7vlViZJ2u39eHJicz+WYizAVqx/I+r4n5EK1I=:kyyme+7vlViZJ2u39eHJicz+WYizAVqx/I+r4n5EK1I=:SG\\r\\n\\r\\n------=_Part_2783683_1132600184.1497971077766\\r\\nContent-Type: text/plain; charset=UTF-8\\r\\nContent-Transfer-Encoding: quoted-printable\\r\\nContent-Disposition: inline\\r\\n\\r\\n\\r\\n\\r\\n\\r\\n\\r\\nUntitled Document\\r\\n\\r\\n\\r\\n<http://link.gupshuptech.com/wf/click?upn=3DxYuRbaDvV9DgGU4RrEn4QLxGHhfNfy8=\\r\\n2xpvboSQlpGM-3D_g5wmxG0NlUmQHpVgAmFliXBPW2nB2i7hG8uZ6cCpY7z7xLegdyUbgnyB0yq=\\r\\n5y7-2FgQnnpKShflmV-2ByPwFxaIo85Icq0dO0kXniwIcNokzev8rsSL2-2BpsGArsb89k4-2FZ=\\r\\nFqWHmc9WMhbKYklL0VPu0Zsk27QaiETF30-2Bs8yK4nR5sSetcGM69mvubiCknRgQ6trXDxumMN=\\r\\n8f3xrI4naXMBvGSMwYjAUjLsZVAMd77jZKNFRQZTiLqz0dG9nPExe7wwRJ0pCd-2FiTSPKNc5c7=\\r\\nwX0sx-2BWlHszvoPjXKN19cOuXRZ8UXckzqNqLsnUrXfrrxNk75ylC9k192Icn4pJ7q-2FMhVv4=\\r\\n8WulQunL9IAmY6P2P8J-2FulcLdsBTwpU6e5stqj90Y8K-2BvryxKa0XHiFR7ZFug5A-3D-3D> =\\r\\nWelcome kartikay raheja, Congratulations! for successful completing the fir=\\r\\nst step of the registration process for Admission to To receive this mail i=\\r\\nn your Inbox, please add noreply@cumail.in to your safe senders / contacts =\\r\\nlist.\\r\\n\\r\\n\\r\\n\\r\\n\\r\\n  Welcome kartikay raheja,=20=20=20\\r\\n  Congratulations! for successful completing the first step of the registra=\\r\\ntion process for Admission to Chandigarh University.=20=20\\r\\n=20=20\\r\\n=20=20\\r\\n=20=20=20=20\\r\\n    Your login details are as follow\\r\\n  URL: http://link.gupshuptech.com/wf/click?upn=3DR3BsG5IOg6VKXeUBhVwzO24PN=\\r\\nYtClezFdbFfmXq1jFYOyWGblE7Pv38Vqp-2FRa6Wv_g5wmxG0NlUmQHpVgAmFliXBPW2nB2i7hG=\\r\\n8uZ6cCpY7z7xLegdyUbgnyB0yq5y7-2FgQnnpKShflmV-2ByPwFxaIo85Icq0dO0kXniwIcNokz=\\r\\nev8rsSL2-2BpsGArsb89k4-2FZFqWHmc9WMhbKYklL0VPu0Zsk27QaiETF30-2Bs8yK4nR5sSet=\\r\\ncGM69mvubiCknRgQ6trXDxumMN8f3xrI4naXMBvGSMwYjAUjLsZVAMd77jZKNFRQZTiLqz0dG9n=\\r\\nPExe7wwRKmGhaH5dlFpdwbvNs2xA-2BBiBjzkwxR2nCzak1XlRscJrQ8gDYPnqi94GonbQNeuif=\\r\\nk-2BBKQ8cQw5n-2BRuhj6wvnQFpbr73-2B-2B8poYeIEGEjQTwmP0N4YJ6PHgkN9WfWkpNLTjYt=\\r\\nj5aLlEcSoR3gsbWTGw-3D-3D\\r\\n    User Name: rahejakartikay99@gmail.com or FT-248345\\r\\n    Password: 07AUG1999\\r\\n=20=20=20=20\\r\\n  Established under &lsquo;The Chandigarh University Act&rsquo; by State Go=\\r\\nvernment, Chandigarh University  is recognized by UGC, Government of India =\\r\\nunder Section 2(f) with the right to  confer degrees as per Section 22(1) o=\\r\\nf the UGC ACT, 1956. As a registered user  of Chandigarh University, Fast T=\\r\\nrack Portal, you can login in your account any  time to submit &amp; proces=\\r\\ns your application to apply for Fast Track Admission  in the program of you=\\r\\nr choice to Chandigarh University. The account will also  help you to keep =\\r\\ntrack of status of your application along with all necessary  information t=\\r\\nhat you have filled.=20=20=20\\r\\n  What does Fast Track offers you?=20=20\\r\\n  As a registered Fast Track user, the portal  offers you multiple on-line =\\r\\nservices with just one click. Right from applying  online for admission to =\\r\\nvarious programs offered by Chandigarh University to  processing your appli=\\r\\ncation for academic scholarships which are offered through  CUSAT (Chandiga=\\r\\nrh University Scholarship Admission Test), your Fast Track  registered ID i=\\r\\ns your one point of contact with us.=20=20\\r\\n  After registering at  Fast Track portal, you will come across following o=\\r\\nptions to choose from:-=20=20=20=20\\r\\n  Buy e-Prospectus=20\\r\\nIf you are decided  about your career and you want to go ahead with the Adm=\\r\\nission process, then you  can choose this option to purchase e-Prospectus a=\\r\\nt a cost of Rs. 600/- which  contains Application Form to apply for Admissi=\\r\\nons 2017 to various programs  offered by Chandigarh University. Purchasing =\\r\\nof prospectus would enable start  of your Admission process which can be fu=\\r\\nrther processed by online submission  of registration fee through the vario=\\r\\nus Digital Fee Payment Options available.=20=20=20\\r\\n  Apply for CUSAT 2017\\r\\nChandigarh University  offers golden opportunity to the students to earn up=\\r\\nto 100% academic  scholarships for Under-Graduate and MBA programs by appea=\\r\\nring in the All India  Entrance Examination CUSAT 2017. As a registered use=\\r\\nr this option will allow  you to apply for CUSAT 2017 (Scholarship Test) by=\\r\\n paying a nominal fee of Rs.  500/-. Appearing in CUSAT 2017 will enable yo=\\r\\nu to earn a minimum of 5%  scholarship in the program of your choice by sco=\\r\\nring 60% in the entrance test.\\r\\nCUSAT 2017 Registration closes on:  April 15, 2017\\r\\n=20=20\\r\\n  Your Career Predictor =C2=A0=C2=A0=C2=A0\\r\\n    If you are still  undecided about choice of career then this is the opt=\\r\\nion for you. The option  will enable you to go through a free-of-cost profe=\\r\\nssional psychometric test  that will assist you in selecting a program that=\\r\\n suits your ability and  interest. The results of the test are analyzed by =\\r\\nteam of experienced  professionals who will help you to take your decision.=\\r\\n=20=20=20\\r\\n  Free Mock Test\\r\\nIf you are an aspirant to seek admission in  any of the Under-Graduate or P=\\r\\nost-Graduate program and preparing for 10+2 Board  or University Examinatio=\\r\\nn, then this option would enable you to go through  free-of-cost Mock Test =\\r\\nwhich can be beneficial to refresh your memory with  important concepts and=\\r\\n basics. You can change your preparation strategy in  accordance to the tes=\\r\\nt results.=20=20=20\\r\\n  You have just completed  33% of the registration process and you are just=\\r\\n 2 steps away from being part  of Chandigarh University which has been rank=\\r\\ned as Asia&rsquo;s Fastest Growing University and University  with Best Pla=\\r\\ncements.=20\\r\\n If you have any queries regarding the payment process please send an email=\\r\\n to admissions@cumail.in or call at admission helpline numbers 09915999224 =\\r\\n08968032222 01603044444\\r\\n=20=20=20=20\\r\\n=20=20=20=20\\r\\n      Chandigarh University,NH-95 Chandigarh-Ludhiana Highway,\\r\\nMohali, Punjab (INDIA)General Helpline No: 91-160-3051003\\r\\nToll Free: 1800 200 0025\\r\\nhttp://link.gupshuptech.com/wf/click?upn=3DxYuRbaDvV9DgGU4RrEn4QLxGHhfNfy82=\\r\\nxpvboSQlpGM-3D_g5wmxG0NlUmQHpVgAmFliXBPW2nB2i7hG8uZ6cCpY7z7xLegdyUbgnyB0yq5=\\r\\ny7-2FgQnnpKShflmV-2ByPwFxaIo85Icq0dO0kXniwIcNokzev8rsSL2-2BpsGArsb89k4-2FZF=\\r\\nqWHmc9WMhbKYklL0VPu0Zsk27QaiETF30-2Bs8yK4nR5sSetcGM69mvubiCknRgQ6trXDxumMN8=\\r\\nf3xrI4naXMBvGSMwYjAUjLsZVAMd77jZKNFRQZTiLqz0dG9nPExe7wwRLtjpzuKmXP0-2B7VD3n=\\r\\n4aH8-2FUrIaQBu2TtXstAa-2Fff5EEBqerL-2BX22oJn62n3pD-2B-2FDoV-2FfKTyCyYIZrSFA=\\r\\nZPpAHEsQGmrnLZTPx91bfotWgJILEJ9ep5f5KQWG69eyylpfD7Sym48b1xIgqC5OLMJt9A-3D-3D\\r\\n  Connect with us:=20=20=20\\r\\n\\r\\n=20\\r\\n\\r\\nNote: If you are Gmail user and you do not wish to miss out important updat=\\r\\nes from Chandigarh University, please add us to your contacts or move this =\\r\\nemail to your primary inbox. You may also star our mail.\\r\\nDISCLAIMER: You are receiving this email because you have registered your e=\\r\\nmail ID with Chandigarh University.\\r\\n\\r\\n=C2=A9 2017 Chandigarh University, cuchd.in\\r\\nTo unsubscribe, please click here.\\r\\nChandigarh University\\r\\nChandigarh University, Gharuan, Mohali (Punjab)\\r\\n\\r\\n\\r\\n\\r\\nbecause you have registered your email ID with Chandigarh University.\\r\\n\\r\\n=C2=A9 2017 Chandigarh University, cuchd.in\\r\\n\\r\\n\\r\\n\\r\\n------=_Part_2783683_1132600184.1497971077766\\r\\nContent-Type: text/html; charset=UTF-8\\r\\nContent-Transfer-Encoding: quoted-printable\\r\\nContent-Disposition: inline\\r\\n\\r\\n<!DOCTYPE html PUBLIC \"-//W3C//DTD XHTML 1.0 Transitional//EN\" \"http://www.=\\r\\nw3.org/TR/xhtml1/DTD/xhtml1-transitional.dtd\">\\r\\n<html xmlns=3D\"http://www.w3.org/1999/xhtml\">\\r\\n<head>\\r\\n<meta http-equiv=3D\"Content-Type\" content=3D\"text/html; charset=3Dutf-8\" />\\r\\n<title>Untitled Document</title>\\r\\n</head>\\r\\n\\r\\n<body><TABLE><TR><TD style=3D\"display: none !important; visibility: hidden;=\\r\\n mso-hide:all;opacity: 0; color: white; height: 0; width: 0; max-height : 0=\\r\\npx; max-width : 0px ; overflow:hidden;  line-height:1px; font-weight:100; f=\\r\\nont-size: 0px;\"><http://www.cuchd.in> Welcome kartikay raheja, Congratulati=\\r\\nons! for successful completing the first step of the registration process f=\\r\\nor Admission to </TD></TR></TABLE><P style=3D\"background-color: white; colo=\\r\\nr: #666666; font: normal normal x-small arial,helvetica,sans-serif; text-al=\\r\\nign: center\">To receive this mail in your Inbox, please add <A HREF=3D\"mail=\\r\\nto:noreply@cumail.in\">noreply@cumail.in</A> to your safe senders / contacts=\\r\\n list.</P>\\r\\n\\r\\n<div style=3D\"color:#666;font:normal normal 12px arial,helvetica,sans-serif=\\r\\n;text-align:center;border-radius:6px; display:block; width:90%; margin:auto=\\r\\n;\"><a href=3D\"http://link.gupshuptech.com/wf/click?upn=3DMXA6b-2FQVKhcNVWO4=\\r\\nIMNjXbOWrnqFjMm-2BD-2FhHJK-2B-2Fevy7a5SyYAKnhWv368jAIVbZYVpYa7CfpfXkjdFJgeF=\\r\\nNzRRFIhIoBwjAMFJOVxbIQ8PUp1T9gltOVLZSdYC9vquubYSwnMraofTbfU2wcSyaAFY-2FpL6v=\\r\\nf7Gw7FxrHYeEiSk-2FF0CzSELNfp3BGHiNRjq-2B4LEheykpT1qzWLEPKIGa3A-3D-3D_g5wmxG=\\r\\n0NlUmQHpVgAmFliXBPW2nB2i7hG8uZ6cCpY7z7xLegdyUbgnyB0yq5y7-2FgQnnpKShflmV-2By=\\r\\nPwFxaIo85Icq0dO0kXniwIcNokzev8rsSL2-2BpsGArsb89k4-2FZFqWHmc9WMhbKYklL0VPu0Z=\\r\\nsk27QaiETF30-2Bs8yK4nR5sSetcGM69mvubiCknRgQ6trXDxumMN8f3xrI4naXMBvGSMwYjAUj=\\r\\nLsZVAMd77jZKNFRQZTiLqz0dG9nPExe7wwR2sen7qcjYPIWFNhhE2IT-2B1TlGbf2rp3Ff-2BFl=\\r\\nWo-2Fes51TyPR1O7AAB7c0ioEhzQZA8fVkGrL-2FsJ6VwZkr7y5f-2BiiRCbPg2vZaG3LnFAzFh=\\r\\nu6FLu6SR6RRylhS9FHg4vWwlqHUzIUnZ-2FRHamhp3XkiQw-3D-3D\" target=3D\"_blank\"><i=\\r\\nmg src=3D\"http://fasttrack.cuchd.in/emailer/images/logo-email-cu.jpg\"/></a>\\r\\n<p style=3D\"padding: 30px 0 0;\"><img src=3D\"http://fasttrack.cuchd.in/email=\\r\\ner/images/discover-learn-empower.png\"/></p></div>\\r\\n<div style=3D\"color:#666;font:normal normal 12px arial,helvetica,sans-serif=\\r\\n;text-align:left;border-radius:6px 6px 0px 0px; display:block; width:90%; m=\\r\\nargin:auto;border-bottom: 1px solid #CCC;border-top: 1px solid #CCC;border-=\\r\\nleft: 1px solid #CCC;border-right: 1px solid #CCC; padding:20px; background=\\r\\n-color:#fefefe\">\\r\\n  <p><strong style=3D\"color:#008ac4\">Welcome kartikay raheja,</strong>=20=\\r\\n=20=20\\r\\n  </p><p><strong>Congratulations! for successful completing the first step =\\r\\nof the registration process for Admission to Chandigarh University.</strong=\\r\\n>=20=20\\r\\n  </p><p><strong><img src=3D\"http://fasttrack.cuchd.in/emailer/images/step1=\\r\\n.png\" />\\r\\n  <br />\\r\\n    <br />\\r\\n    Your login details are as follow<br />\\r\\n  </strong><b>URL:</b> <a href=3D\"http://link.gupshuptech.com/wf/click?upn=\\r\\n=3DMXA6b-2FQVKhcNVWO4IMNjXbOWrnqFjMm-2BD-2FhHJK-2B-2Fevy7a5SyYAKnhWv368jAIV=\\r\\nbZYVpYa7CfpfXkjdFJgeFNzanPMATeI64DkbALx6pOfPTH7blE7MnNhxYdzr1kVOhNNTrZQIZX1=\\r\\n8O764cKYevUzDwxJzkaV4nwbpeqsFPc59tpdc6iRPxwldOpBSePgrefir8B7a-2Fl4KnPA4-2BR=\\r\\ndSop1A-3D-3D_g5wmxG0NlUmQHpVgAmFliXBPW2nB2i7hG8uZ6cCpY7z7xLegdyUbgnyB0yq5y7=\\r\\n-2FgQnnpKShflmV-2ByPwFxaIo85Icq0dO0kXniwIcNokzev8rsSL2-2BpsGArsb89k4-2FZFqW=\\r\\nHmc9WMhbKYklL0VPu0Zsk27QaiETF30-2Bs8yK4nR5sSetcGM69mvubiCknRgQ6trXDxumMN8f3=\\r\\nxrI4naXMBvGSMwYjAUjLsZVAMd77jZKNFRQZTiLqz0dG9nPExe7wwR644t9GnDFAe8Zc5AqqSeY=\\r\\nS-2Fq6hr5hQPbAFw74hEee1NScOB-2B1-2FA0OBnzkRsQXvfOS7czZH7yJ1aBmYs1U6VXeqiABU=\\r\\ny7tEhCnz6-2BA9I-2FaCsQJcFhiXylCzzkcfmikSPIqfgF3oqd0GFqCIjD4SCZfQ-3D-3D\" tar=\\r\\nget=3D\"_blank\" style=3D\"color:#c53939; text-decoration:none\">http://fasttra=\\r\\nck.cuchd.in</a><br />\\r\\n    <b>User Name:</b> <a href=3D\"mailto:erp@cumail.in\" style=3D\"color:#c539=\\r\\n39; text-decoration:none\">rahejakartikay99@gmail.com</a> or FT-248345<br />\\r\\n    <b>Password:</b> 07AUG1999<br>\\r\\n    <br>\\r\\n  Established under &lsquo;The Chandigarh University Act&rsquo; by State Go=\\r\\nvernment, Chandigarh University  is recognized by UGC, Government of India =\\r\\nunder Section 2(f) with the right to  confer degrees as per <strong>Section=\\r\\n 22(1) of the UGC ACT, 1956</strong>. As a registered user  of Chandigarh U=\\r\\nniversity, Fast Track Portal, you can login in your account any  time to su=\\r\\nbmit &amp; process your application to apply for Fast Track Admission  in t=\\r\\nhe program of your choice to Chandigarh University. The account will also  =\\r\\nhelp you to keep track of status of your application along with all necessa=\\r\\nry  information that you have filled.=20=20=20\\r\\n  </p><p><strong style=3D\"color:#008ac4\">What does Fast Track offers you?</=\\r\\nstrong>  <br />\\r\\n  As a registered Fast Track user, the portal  offers you multiple on-line =\\r\\nservices with just one click. Right from applying  online for admission to =\\r\\nvarious programs offered by Chandigarh University to  processing your appli=\\r\\ncation for academic scholarships which are offered through  CUSAT (Chandiga=\\r\\nrh University Scholarship Admission Test), your Fast Track  registered ID i=\\r\\ns your one point of contact with us.=20=20\\r\\n  </p><p><strong>After registering at  Fast Track portal, you will come acr=\\r\\noss following options to choose from:-  </strong>=20=20\\r\\n  </p><p><strong style=3D\"color:#008ac4\">Buy e-Prospectus </strong><br />\\r\\nIf you are decided  about your career and you want to go ahead with the Adm=\\r\\nission process, then you  can choose this option to purchase e-Prospectus a=\\r\\nt a cost of <strong>Rs. 600/-</strong> which  contains <strong>Application =\\r\\nForm to apply for Admissions 2017</strong> to various programs  offered by =\\r\\nChandigarh University. Purchasing of prospectus would enable start  of your=\\r\\n Admission process which can be further processed by online submission  of =\\r\\nregistration fee through the various Digital Fee Payment Options available.=\\r\\n=20=20=20\\r\\n  </p><p><strong style=3D\"color:#008ac4\">Apply for CUSAT 2017</strong><br />\\r\\nChandigarh University  offers golden opportunity to the students to <strong=\\r\\n>earn upto 100% academic  scholarships</strong> for Under-Graduate and MBA =\\r\\nprograms by appearing in the <strong>All India  Entrance Examination CUSAT =\\r\\n2017</strong>. As a registered user this option will allow  you to apply fo=\\r\\nr CUSAT 2017 (Scholarship Test) by paying a nominal fee of <strong>Rs.  500=\\r\\n/-</strong>. Appearing in CUSAT 2017 will enable you to earn a <strong>mini=\\r\\nmum of 5%  scholarship </strong>in the program of your choice by scoring 60=\\r\\n% in the entrance test.<br />\\r\\n<strong>CUSAT 2017 Registration closes on:  April 15, 2017</strong>\\r\\n=20=20\\r\\n  </p><p><strong style=3D\"color:#008ac4\">Your Career Predictor =C2=A0=C2=A0=\\r\\n=C2=A0</strong><br />\\r\\n    If you are still  undecided about choice of career then this is the opt=\\r\\nion for you. The option  will enable you to go through a free-of-cost profe=\\r\\nssional psychometric test  that will assist you in selecting a program that=\\r\\n suits your ability and  interest. The results of the test are analyzed by =\\r\\nteam of experienced  professionals who will help you to take your decision.=\\r\\n=20=20=20\\r\\n  </p><p><strong style=3D\"color:#008ac4\">Free Mock Test</strong><br />\\r\\nIf you are an aspirant to seek admission in  any of the Under-Graduate or P=\\r\\nost-Graduate program and preparing for 10+2 Board  or University Examinatio=\\r\\nn, then this option would enable you to go through  free-of-cost Mock Test =\\r\\nwhich can be beneficial to refresh your memory with  important concepts and=\\r\\n basics. You can change your preparation strategy in  accordance to the tes=\\r\\nt results.=20=20=20\\r\\n  </p><p><strong>You have just completed  33% of the registration process a=\\r\\nnd you are just 2 steps away from being part  of Chandigarh University whic=\\r\\nh has been ranked as Asia&rsquo;s Fastest Growing University and University=\\r\\n  with Best Placements. </strong></p>\\r\\n <p>If you have any queries regarding the payment process please send an em=\\r\\nail to <a href=3D\"mailto:admissions@cumail.in\" style=3D\"color:#c53939; text=\\r\\n-decoration:none\">admissions@cumail.in</a> or call at admission helpline nu=\\r\\nmbers 09915999224 08968032222 01603044444<br />\\r\\n    <br />\\r\\n    <br />\\r\\n      <b style=3D\"color:#008ac4\">Chandigarh University</b>,<br>NH-95 Chandi=\\r\\ngarh-Ludhiana Highway,<br />\\r\\nMohali, Punjab (INDIA)<br>General Helpline No: 91-160-3051003<br />\\r\\nToll Free: 1800 200 0025<br>\\r\\n<a href=3D\"http://link.gupshuptech.com/wf/click?upn=3DMXA6b-2FQVKhcNVWO4IMN=\\r\\njXbOWrnqFjMm-2BD-2FhHJK-2B-2Fevy7a5SyYAKnhWv368jAIVbZYVpYa7CfpfXkjdFJgeFNzR=\\r\\nRFIhIoBwjAMFJOVxbIQ8PUp1T9gltOVLZSdYC9vquubYSwnMraofTbfU2wcSyaAFY-2FpL6vf7G=\\r\\nw7FxrHYeEiSk-2FF0CzSELNfp3BGHiNRjq-2B4LEheykpT1qzWLEPKIGa3A-3D-3D_g5wmxG0Nl=\\r\\nUmQHpVgAmFliXBPW2nB2i7hG8uZ6cCpY7z7xLegdyUbgnyB0yq5y7-2FgQnnpKShflmV-2ByPwF=\\r\\nxaIo85Icq0dO0kXniwIcNokzev8rsSL2-2BpsGArsb89k4-2FZFqWHmc9WMhbKYklL0VPu0Zsk2=\\r\\n7QaiETF30-2Bs8yK4nR5sSetcGM69mvubiCknRgQ6trXDxumMN8f3xrI4naXMBvGSMwYjAUjLsZ=\\r\\nVAMd77jZKNFRQZTiLqz0dG9nPExe7wwRUHYyXXVUUxUkdl4kpsJe7bVzoZCvGnvmNj1wDZdcN8D=\\r\\n17WqS7BrgobWHUrffg0aSX37UlmA0qjsNZMzx0oFsLaqtp7FVS89WgKORvFExZ58duxso8Z3Mfl=\\r\\nkOuufU59xfnSHjphXqM5wLNDXQIAES-2Fg-3D-3D\" target=3D\"_blank\" style=3D\"color:=\\r\\n#c53939; text-decoration:none\">http://www.cuchd.in</a>\\r\\n  </p><div style=3D\"text-align:right\"><p style=3D\"position:relative;top:-4p=\\r\\nx;display:inline\">Connect with us:</p><p style=3D\"position:relative;top:2px=\\r\\n;display:inline\"> <a href=3D\"http://link.gupshuptech.com/wf/click?upn=3DMXA=\\r\\n6b-2FQVKhcNVWO4IMNjXbOWrnqFjMm-2BD-2FhHJK-2B-2Fevy7a5SyYAKnhWv368jAIVbZYVpY=\\r\\na7CfpfXkjdFJgeFNzRA30mHc45cHkQj03k4q3On5EOIVl-2FWLF6DnY13J7Bvl9ecrFgjCx4Je2=\\r\\nAdwmGVbuqmkAnANkadpe3F5HFGaWKAw9jej1nn65GcrLNYP-2BWOaFXrfxR1bpzq84Kc71GPwNA=\\r\\n-3D-3D_g5wmxG0NlUmQHpVgAmFliXBPW2nB2i7hG8uZ6cCpY7z7xLegdyUbgnyB0yq5y7-2FgQn=\\r\\nnpKShflmV-2ByPwFxaIo85Icq0dO0kXniwIcNokzev8rsSL2-2BpsGArsb89k4-2FZFqWHmc9WM=\\r\\nhbKYklL0VPu0Zsk27QaiETF30-2Bs8yK4nR5sSetcGM69mvubiCknRgQ6trXDxumMN8f3xrI4na=\\r\\nXMBvGSMwYjAUjLsZVAMd77jZKNFRQZTiLqz0dG9nPExe7wwRZ37LttfDiQzvq9o1kQ6pVmW5ALM=\\r\\niPz-2BgRxDE2HvU6upiJlcajMb5wZgj58Es2uKNH1za8iXUp-2BH-2FtHtNUBaf5KxHP-2FJpEz=\\r\\n7Hh0btip660qCoSZzYHLx7-2Fj6z8TO6y6vE85a6zsPqA5308jHAf80GyA-3D-3D\" target=3D=\\r\\n\"_blank\"><img src=3D\"http://fasttrack.cuchd.in/emailer/images/icon-email-fb=\\r\\n.png\" width=3D\"22\" height=3D\"22\" /></a> <a href=3D\"http://link.gupshuptech.=\\r\\ncom/wf/click?upn=3DMXA6b-2FQVKhcNVWO4IMNjXbOWrnqFjMm-2BD-2FhHJK-2B-2Fevy7a5=\\r\\nSyYAKnhWv368jAIVbZYVpYa7CfpfXkjdFJgeFNzXzWW6pGWId0Gb98WwvL8LecFrYpmFFP4dZPF=\\r\\nfpVFnvhsNr9aNwlJNtgCVlllLh7-2BEHS2ZDkCVnmVQ2L9FgAZMsZcR8ym1YKm6Pxltty2ghxMg=\\r\\ngnOc-2FismTAW2xBAFg8cQ-3D-3D_g5wmxG0NlUmQHpVgAmFliXBPW2nB2i7hG8uZ6cCpY7z7xL=\\r\\negdyUbgnyB0yq5y7-2FgQnnpKShflmV-2ByPwFxaIo85Icq0dO0kXniwIcNokzev8rsSL2-2Bps=\\r\\nGArsb89k4-2FZFqWHmc9WMhbKYklL0VPu0Zsk27QaiETF30-2Bs8yK4nR5sSetcGM69mvubiCkn=\\r\\nRgQ6trXDxumMN8f3xrI4naXMBvGSMwYjAUjLsZVAMd77jZKNFRQZTiLqz0dG9nPExe7wwRL3w6K=\\r\\nvHJiEYj8xtUZVBN8bNorM5vkMTTLM8I33-2F5XynNwgp1Lu5vFP-2FKam7Cf9ijlf-2BDrOytTU=\\r\\nA73-2Fi2zah2UApvo8xCfgVqLCZBwzJP61eZ-2F3NosgcPNUxt3VTqzkKLK9EDj0HIiWls2u5r5=\\r\\nUyodw-3D-3D\" target=3D\"_blank\"><img src=3D\"http://fasttrack.cuchd.in/emaile=\\r\\nr/images/icon-email-t.png\" width=3D\"22\" height=3D\"22\" /></a> <a href=3D\"htt=\\r\\np://link.gupshuptech.com/wf/click?upn=3DMXA6b-2FQVKhcNVWO4IMNjXbOWrnqFjMm-2=\\r\\nBD-2FhHJK-2B-2Fevy7a5SyYAKnhWv368jAIVbZYVpYa7CfpfXkjdFJgeFNzfH9x89n9Rd29l-2=\\r\\nBGLB0Of86O941S-2FRu6nZP2Tg8VQ21ecZmzLDyqO-2B-2F9iUFdhLygEtLkptAJoK9r3BXaE50=\\r\\nKgwlxWW9QXZECFYnjUn3DHf9kGlZTc28vr9yjty8Q9VJDbw-3D-3D_g5wmxG0NlUmQHpVgAmFli=\\r\\nXBPW2nB2i7hG8uZ6cCpY7z7xLegdyUbgnyB0yq5y7-2FgQnnpKShflmV-2ByPwFxaIo85Icq0dO=\\r\\n0kXniwIcNokzev8rsSL2-2BpsGArsb89k4-2FZFqWHmc9WMhbKYklL0VPu0Zsk27QaiETF30-2B=\\r\\ns8yK4nR5sSetcGM69mvubiCknRgQ6trXDxumMN8f3xrI4naXMBvGSMwYjAUjLsZVAMd77jZKNFR=\\r\\nQZTiLqz0dG9nPExe7wwR9I-2F3nEl7RpOaUC32izy5621uwCSPqdAHtjZoEnUymUEmfSePsUC-2=\\r\\nBo9V8-2B79vpMtOpgfkQd22-2B6Xmd1smyPhkpUKwxYbk88w6WcwEzDqScZQ-2BV2r7em-2BIYD=\\r\\nqki8sSyEn3IGYHJZciNaO-2BOJ31O0LmQA-3D-3D\" target=3D\"_blank\"><img src=3D\"htt=\\r\\np://fasttrack.cuchd.in/emailer/images/icon-email-yt.png\" width=3D\"22\" heigh=\\r\\nt=3D\"22\" /></a></p>\\r\\n</div>\\r\\n </div>\\r\\n<div style=3D\"color:#666;font:normal normal 11px arial,helvetica,sans-serif=\\r\\n;text-align:left;border-radius:0px 0px 6px 6px; display:block; width:90%; m=\\r\\nargin:auto; border-bottom: 1px solid #CCC;border-left: 1px solid #CCC;borde=\\r\\nr-right: 1px solid #CCC; padding:20px; background-color:#f6f6f6\">\\r\\n<p>Note: If you are Gmail user and you do not wish to miss out important up=\\r\\ndates from Chandigarh University, please add us to your contacts or move th=\\r\\nis email to your primary inbox. You may also star our mail.</p>\\r\\n<p>DISCLAIMER: You are receiving this email because you have registered you=\\r\\nr email ID with Chandigarh University.</p>\\r\\n</div>\\r\\n<div style=3D\"width:90%; margin:auto;color:#ccc;font:normal normal 11px ari=\\r\\nal,helvetica,sans-serif;text-align:right;\">=C2=A9 2017 Chandigarh Universit=\\r\\ny, cuchd.in</div>\\r\\n<P style=3D\"background-color: white; color: #666666; font: normal normal x-=\\r\\nsmall arial,helvetica,sans-serif; text-align: center\">To unsubscribe, pleas=\\r\\ne click <A HREF=3D\"http://link.gupshuptech.com/wf/click?upn=3DMXA6b-2FQVKhc=\\r\\nNVWO4IMNjXbOWrnqFjMm-2BD-2FhHJK-2B-2Fevy7a5SyYAKnhWv368jAIVbZYVpYa7CfpfXkjd=\\r\\nFJgeFNzS7-2Fm20sjA31ZzB0-2FCV1GFvKI9QJXdr4GxvTJJo8o2bHF-2BqgcIB9wFtcBcx-2FC=\\r\\nxtUpQwjdmLHSjHsoWR4W189LUU-3D_g5wmxG0NlUmQHpVgAmFliXBPW2nB2i7hG8uZ6cCpY7z7x=\\r\\nLegdyUbgnyB0yq5y7-2FgQnnpKShflmV-2ByPwFxaIo85Icq0dO0kXniwIcNokzev8rsSL2-2Bp=\\r\\nsGArsb89k4-2FZFqWHmc9WMhbKYklL0VPu0Zsk27QaiETF30-2Bs8yK4nR5sSetcGM69mvubiCk=\\r\\nnRgQ6trXDxumMN8f3xrI4naXMBvGSMwYjAUjLsZVAMd77jZKNFRQZTiLqz0dG9nPExe7wwRAaWB=\\r\\nLAHYj1emtCVWLDY8I49x9vJ5T5MD-2BBZxlv65T34ffe-2BBDsvTDRo3UPe4uY2UhHz6DcoWh4Z=\\r\\nMJ9vT4wbwUhW-2FrDOPrlFM1XTDI3FdKQbfT3ZspDafthefwS-2FoK0gU-2BFACNzk-2F6UqN2L=\\r\\n-2FqzovsfA-3D-3D\">here</A>.</P>\\r\\n<P style=3D\"background-color: white; color: #666666; font: normal normal x-=\\r\\nsmall arial,helvetica,sans-serif; text-align: center\">Chandigarh University=\\r\\n</P>\\r\\n<P style=3D\"background-color: white; color: #666666; font: normal normal x-=\\r\\nsmall arial,helvetica,sans-serif; text-align: center\">Chandigarh University=\\r\\n, Gharuan, Mohali (Punjab)</P>\\r\\n<IMG height=3D2 width=3D2 src=3D\"http://entlinksapp.webaroo.com/EMSLinkApp/=\\r\\nAPI/rest?action=3DOpened&cid=3D3342520128704716810&sid=3D703329219368121785=\\r\\n3&srno=3D1\" alt=3D\"Image not available\">\\r\\n</body>\\r\\n</html>\\r\\nbecause you have registered your email ID with Chandigarh University.</p>\\r\\n</div>\\r\\n<div style=3D\"width:90%; margin:auto;color:#ccc;font:normal normal 11px ari=\\r\\nal,helvetica,sans-serif;text-align:right;\">=C2=A9 2017 Chandigarh Universit=\\r\\ny, cuchd.in</div>\\r\\n\\r\\n<img src=3D\"http://link.gupshuptech.com/wf/open?upn=3Dg5wmxG0NlUmQHpVgAmFli=\\r\\nXBPW2nB2i7hG8uZ6cCpY7z7xLegdyUbgnyB0yq5y7-2FgQnnpKShflmV-2ByPwFxaIo85Icq0dO=\\r\\n0kXniwIcNokzev8rsSL2-2BpsGArsb89k4-2FZFqWHmc9WMhbKYklL0VPu0Zsk27QaiETF30-2B=\\r\\ns8yK4nR5sSetcGM69mvubiCknRgQ6trXDxumMN8f3xrI4naXMBvGSMwYjAUjLsZVAMd77jZKNFR=\\r\\nQZTiLqz0dG9nPExe7wwR5TB0z50Iiy4iQpuYAszEVjIJRHUGoZYpug2VuMkzEIkGbXdis3-2Fey=\\r\\na4DgBrQUFBdpZmv3aeLo-2Fazt312oa8cuoSxXDp8u6g-2BE2T8gSCcbau9JJAgKeevqShaucAp=\\r\\nO3suNUbji-2BuCKWhXmLRmMwTybA-3D-3D\" alt=3D\"\" width=3D\"1\" height=3D\"1\" borde=\\r\\nr=3D\"0\" style=3D\"height:1px !important;width:1px !important;border-width:0 =\\r\\n!important;margin-top:0 !important;margin-bottom:0 !important;margin-right:=\\r\\n0 !important;margin-left:0 !important;padding-top:0 !important;padding-bott=\\r\\nom:0 !important;padding-right:0 !important;padding-left:0 !important;\"/>\\r\\n</body>\\r\\n</html>\\r\\n\\r\\n\\r\\n------=_Part_2783683_1132600184.1497971077766--\\r\\n'"
      ]
     },
     "execution_count": 10,
     "metadata": {},
     "output_type": "execute_result"
    }
   ],
   "source": [
    "mails[1][0][1]\n",
    "#Fetched mail contains a lot of boilerplate content so this has to be cleaned"
   ]
  },
  {
   "cell_type": "code",
   "execution_count": 11,
   "metadata": {
    "scrolled": true
   },
   "outputs": [],
   "source": [
    "#This function cleans the boilerplate content of the fetched emails to return clean email bodies\n",
    "def get_body():\n",
    "    bodies=[]\n",
    "    for mail in mails:\n",
    "        paras=[]\n",
    "        paragraphs = justext.justext(str(mail[0][1]), justext.get_stoplist(\"English\"))\n",
    "        for paragraph in paragraphs:\n",
    "            if not paragraph.is_boilerplate:\n",
    "                 paras.append(paragraph.text)\n",
    "        text=''\n",
    "        for para in paras:\n",
    "            text=text+re.sub('\\\\\\\\n|\\\\\\\\r|=|--|<.*?>|div>|.*Content-Type:','',para)\n",
    "        text_list=text.split(' ')\n",
    "        text=''\n",
    "        for t in text_list:\n",
    "            if len(t)<20:\n",
    "                text=text+' '+t\n",
    "        bodies.append(text)\n",
    "    return bodies"
   ]
  },
  {
   "cell_type": "code",
   "execution_count": 12,
   "metadata": {
    "scrolled": true
   },
   "outputs": [],
   "source": [
    "bodies=get_body()"
   ]
  },
  {
   "cell_type": "code",
   "execution_count": 13,
   "metadata": {},
   "outputs": [],
   "source": [
    "#Writing cleaned emails to a txt file\n",
    "with open('job_emails.txt','w+') as fp:\n",
    "    for body in bodies:\n",
    "        fp.write(body)\n",
    "        fp.write('\\n\\t'+'-'*49+'\\n')"
   ]
  },
  {
   "cell_type": "code",
   "execution_count": null,
   "metadata": {},
   "outputs": [],
   "source": []
  },
  {
   "cell_type": "code",
   "execution_count": null,
   "metadata": {},
   "outputs": [],
   "source": []
  }
 ],
 "metadata": {
  "kernelspec": {
   "display_name": "Python 3",
   "language": "python",
   "name": "python3"
  },
  "language_info": {
   "codemirror_mode": {
    "name": "ipython",
    "version": 3
   },
   "file_extension": ".py",
   "mimetype": "text/x-python",
   "name": "python",
   "nbconvert_exporter": "python",
   "pygments_lexer": "ipython3",
   "version": "3.7.3"
  }
 },
 "nbformat": 4,
 "nbformat_minor": 2
}
